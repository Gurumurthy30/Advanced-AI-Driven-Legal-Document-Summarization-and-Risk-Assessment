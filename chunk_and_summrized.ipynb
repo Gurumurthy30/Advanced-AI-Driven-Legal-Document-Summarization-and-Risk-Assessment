{
  "cells": [
    {
      "cell_type": "code",
      "source": [
        "!pip install langchain langchain_google_genai langchain_community -q"
      ],
      "metadata": {
        "id": "eVq2PDtRjP7r",
        "collapsed": true,
        "colab": {
          "base_uri": "https://localhost:8080/"
        },
        "outputId": "a96a6200-e775-40b8-8415-a490199746f9"
      },
      "execution_count": 1,
      "outputs": [
        {
          "output_type": "stream",
          "name": "stdout",
          "text": [
            "\u001b[?25l   \u001b[90m━━━━━━━━━━━━━━━━━━━━━━━━━━━━━━━━━━━━━━━━\u001b[0m \u001b[32m0.0/42.0 kB\u001b[0m \u001b[31m?\u001b[0m eta \u001b[36m-:--:--\u001b[0m\r\u001b[2K   \u001b[90m━━━━━━━━━━━━━━━━━━━━━━━━━━━━━━━━━━━━━━━━\u001b[0m \u001b[32m42.0/42.0 kB\u001b[0m \u001b[31m3.6 MB/s\u001b[0m eta \u001b[36m0:00:00\u001b[0m\n",
            "\u001b[?25h\u001b[?25l   \u001b[90m━━━━━━━━━━━━━━━━━━━━━━━━━━━━━━━━━━━━━━━━\u001b[0m \u001b[32m0.0/2.5 MB\u001b[0m \u001b[31m?\u001b[0m eta \u001b[36m-:--:--\u001b[0m\r\u001b[2K   \u001b[90m━━━━━━━━━━━━━━━━━━━━━━━━━━━━━━━━━━━━━━━━\u001b[0m \u001b[32m2.5/2.5 MB\u001b[0m \u001b[31m78.7 MB/s\u001b[0m eta \u001b[36m0:00:00\u001b[0m\n",
            "\u001b[?25h\u001b[?25l   \u001b[90m━━━━━━━━━━━━━━━━━━━━━━━━━━━━━━━━━━━━━━━━\u001b[0m \u001b[32m0.0/50.9 kB\u001b[0m \u001b[31m?\u001b[0m eta \u001b[36m-:--:--\u001b[0m\r\u001b[2K   \u001b[90m━━━━━━━━━━━━━━━━━━━━━━━━━━━━━━━━━━━━━━━━\u001b[0m \u001b[32m50.9/50.9 kB\u001b[0m \u001b[31m4.2 MB/s\u001b[0m eta \u001b[36m0:00:00\u001b[0m\n",
            "\u001b[?25h"
          ]
        }
      ]
    },
    {
      "cell_type": "code",
      "source": [
        "!pip install pymupdf easyocr pillow -q"
      ],
      "metadata": {
        "colab": {
          "base_uri": "https://localhost:8080/"
        },
        "id": "I_pmgeGQXS3E",
        "outputId": "75941557-1fee-4e96-ad1c-abe6fa9ea655"
      },
      "execution_count": 2,
      "outputs": [
        {
          "output_type": "stream",
          "name": "stdout",
          "text": [
            "\u001b[2K   \u001b[90m━━━━━━━━━━━━━━━━━━━━━━━━━━━━━━━━━━━━━━━━\u001b[0m \u001b[32m20.0/20.0 MB\u001b[0m \u001b[31m48.5 MB/s\u001b[0m eta \u001b[36m0:00:00\u001b[0m\n",
            "\u001b[2K   \u001b[90m━━━━━━━━━━━━━━━━━━━━━━━━━━━━━━━━━━━━━━━━\u001b[0m \u001b[32m2.9/2.9 MB\u001b[0m \u001b[31m61.4 MB/s\u001b[0m eta \u001b[36m0:00:00\u001b[0m\n",
            "\u001b[2K   \u001b[90m━━━━━━━━━━━━━━━━━━━━━━━━━━━━━━━━━━━━━━━━\u001b[0m \u001b[32m363.4/363.4 MB\u001b[0m \u001b[31m3.6 MB/s\u001b[0m eta \u001b[36m0:00:00\u001b[0m\n",
            "\u001b[2K   \u001b[90m━━━━━━━━━━━━━━━━━━━━━━━━━━━━━━━━━━━━━━━━\u001b[0m \u001b[32m13.8/13.8 MB\u001b[0m \u001b[31m57.5 MB/s\u001b[0m eta \u001b[36m0:00:00\u001b[0m\n",
            "\u001b[2K   \u001b[90m━━━━━━━━━━━━━━━━━━━━━━━━━━━━━━━━━━━━━━━━\u001b[0m \u001b[32m24.6/24.6 MB\u001b[0m \u001b[31m34.0 MB/s\u001b[0m eta \u001b[36m0:00:00\u001b[0m\n",
            "\u001b[2K   \u001b[90m━━━━━━━━━━━━━━━━━━━━━━━━━━━━━━━━━━━━━━━━\u001b[0m \u001b[32m883.7/883.7 kB\u001b[0m \u001b[31m34.3 MB/s\u001b[0m eta \u001b[36m0:00:00\u001b[0m\n",
            "\u001b[2K   \u001b[90m━━━━━━━━━━━━━━━━━━━━━━━━━━━━━━━━━━━━━━━━\u001b[0m \u001b[32m664.8/664.8 MB\u001b[0m \u001b[31m1.5 MB/s\u001b[0m eta \u001b[36m0:00:00\u001b[0m\n",
            "\u001b[2K   \u001b[90m━━━━━━━━━━━━━━━━━━━━━━━━━━━━━━━━━━━━━━━━\u001b[0m \u001b[32m211.5/211.5 MB\u001b[0m \u001b[31m5.7 MB/s\u001b[0m eta \u001b[36m0:00:00\u001b[0m\n",
            "\u001b[2K   \u001b[90m━━━━━━━━━━━━━━━━━━━━━━━━━━━━━━━━━━━━━━━━\u001b[0m \u001b[32m56.3/56.3 MB\u001b[0m \u001b[31m15.4 MB/s\u001b[0m eta \u001b[36m0:00:00\u001b[0m\n",
            "\u001b[2K   \u001b[90m━━━━━━━━━━━━━━━━━━━━━━━━━━━━━━━━━━━━━━━━\u001b[0m \u001b[32m127.9/127.9 MB\u001b[0m \u001b[31m7.2 MB/s\u001b[0m eta \u001b[36m0:00:00\u001b[0m\n",
            "\u001b[2K   \u001b[90m━━━━━━━━━━━━━━━━━━━━━━━━━━━━━━━━━━━━━━━━\u001b[0m \u001b[32m207.5/207.5 MB\u001b[0m \u001b[31m6.5 MB/s\u001b[0m eta \u001b[36m0:00:00\u001b[0m\n",
            "\u001b[2K   \u001b[90m━━━━━━━━━━━━━━━━━━━━━━━━━━━━━━━━━━━━━━━━\u001b[0m \u001b[32m21.1/21.1 MB\u001b[0m \u001b[31m81.1 MB/s\u001b[0m eta \u001b[36m0:00:00\u001b[0m\n",
            "\u001b[2K   \u001b[90m━━━━━━━━━━━━━━━━━━━━━━━━━━━━━━━━━━━━━━━━\u001b[0m \u001b[32m422.9/422.9 kB\u001b[0m \u001b[31m34.8 MB/s\u001b[0m eta \u001b[36m0:00:00\u001b[0m\n",
            "\u001b[2K   \u001b[90m━━━━━━━━━━━━━━━━━━━━━━━━━━━━━━━━━━━━━━━━\u001b[0m \u001b[32m969.6/969.6 kB\u001b[0m \u001b[31m59.5 MB/s\u001b[0m eta \u001b[36m0:00:00\u001b[0m\n",
            "\u001b[2K   \u001b[90m━━━━━━━━━━━━━━━━━━━━━━━━━━━━━━━━━━━━━━━━\u001b[0m \u001b[32m292.9/292.9 kB\u001b[0m \u001b[31m26.4 MB/s\u001b[0m eta \u001b[36m0:00:00\u001b[0m\n",
            "\u001b[?25h"
          ]
        }
      ]
    },
    {
      "cell_type": "code",
      "source": [
        "from google.colab import drive\n",
        "drive.mount('/content/drive')"
      ],
      "metadata": {
        "id": "Ox3qMMphXYGJ"
      },
      "execution_count": null,
      "outputs": []
    },
    {
      "cell_type": "code",
      "execution_count": 3,
      "metadata": {
        "id": "Tx4zaWh0ipaC"
      },
      "outputs": [],
      "source": [
        "from langchain.text_splitter import RecursiveCharacterTextSplitter\n",
        "from langchain.docstore.document import Document\n",
        "from langchain_google_genai import ChatGoogleGenerativeAI\n",
        "import fitz  # PyMuPDF\n",
        "import easyocr\n",
        "import torch\n",
        "import io\n",
        "from PIL import Image\n",
        "import torch"
      ]
    },
    {
      "cell_type": "code",
      "source": [
        "from google.colab import userdata\n",
        "GOOGLE_GENAI_KEY = userdata.get('GOOGLE_GENAI_KEY')"
      ],
      "metadata": {
        "id": "88tqOYH_-CnO"
      },
      "execution_count": 4,
      "outputs": []
    },
    {
      "cell_type": "code",
      "source": [
        "llm = ChatGoogleGenerativeAI(model=\"models/gemini-pro\",google_api_key=GOOGLE_GENAI_KEY)"
      ],
      "metadata": {
        "id": "3Isi7P7n-L5o"
      },
      "execution_count": 5,
      "outputs": []
    },
    {
      "cell_type": "code",
      "source": [
        "# Check if GPU is available\n",
        "use_gpu = torch.cuda.is_available()\n",
        "\n",
        "# Initialize EasyOCR reader (English only, add other languages if needed)\n",
        "reader = easyocr.Reader(['en'], gpu=use_gpu)\n",
        "print(use_gpu)\n",
        "def extract_text_from_pdf(pdf_path):\n",
        "    doc = fitz.open(pdf_path)\n",
        "    full_text = []\n",
        "\n",
        "    for page in doc:\n",
        "        text = page.get_text(\"text\").strip()\n",
        "\n",
        "        # Extract text if available\n",
        "        if text:\n",
        "            full_text.append(text)\n",
        "\n",
        "        # Extract text from images if present\n",
        "        for img in page.get_images(full=True):\n",
        "            base_image = doc.extract_image(img[0])\n",
        "            image_bytes = base_image[\"image\"]\n",
        "            img_text = \"\\n\".join(reader.readtext(image_bytes, detail=0))\n",
        "\n",
        "            if img_text:\n",
        "                full_text.append(img_text)\n",
        "\n",
        "    return \"\\n\".join(full_text)\n",
        "\n",
        "# Example Usage:\n",
        "doc_path = r\"/content/2025021580.pdf\"\n",
        "extracted_text = extract_text_from_pdf(doc_path)"
      ],
      "metadata": {
        "colab": {
          "base_uri": "https://localhost:8080/"
        },
        "id": "ZbD-UBX4X6Vy",
        "outputId": "0002dec0-c588-4fc6-abfe-c3a66877beab"
      },
      "execution_count": 7,
      "outputs": [
        {
          "output_type": "stream",
          "name": "stdout",
          "text": [
            "True\n"
          ]
        }
      ]
    },
    {
      "cell_type": "code",
      "source": [
        "# Text splitting configuration\n",
        "text_splitter = RecursiveCharacterTextSplitter(chunk_size=6000, chunk_overlap=200)\n",
        "chunks = text_splitter.split_text(extracted_text)\n",
        "\n",
        "# Convert chunks into LangChain Document format\n",
        "docs = [Document(page_content=chunk) for chunk in chunks]"
      ],
      "metadata": {
        "id": "Fu6flDzRfrdG"
      },
      "execution_count": 8,
      "outputs": []
    },
    {
      "cell_type": "code",
      "source": [
        "summary_prompt = \"\"\"\n",
        "[Legal Document Summarization]\n",
        "You are an advanced AI legal assistant specializing in document analysis and legal summarization.\n",
        "**Your goal is to generate a structured, concise, and legally precise summary.**\n",
        "\n",
        "---\n",
        "\n",
        "## 1: Identify the Type of Legal Document**\n",
        "Analyze the document and determine its type. Clearly classify it under one of the following legal categories:\n",
        "- **Judgment / Court Order**\n",
        "- **First Information Report (FIR)**\n",
        "- **Legal Notice / Demand Notice**\n",
        "- **Contract / Agreement**\n",
        "- **Petition / Writ**\n",
        "- **Other (Specify the exact legal category)**\n",
        "\n",
        "---\n",
        "\n",
        "## 2: Generate a Highly Structured Summary**\n",
        "Extract and present key details in a well-organized format:\n",
        "\n",
        "### **Document Overview**\n",
        "- **Category:** [Specify the document type]\n",
        "- **Title / Case Name / Subject:**\n",
        "- **Parties Involved:** (Petitioner, Respondent, Plaintiff, Defendant, Complainant, Accused, etc.)\n",
        "- **Date & Reference Number:** (Case No., FIR No., Agreement Date, etc.)\n",
        "- **Issuing Authority / Court / Legal Body:** (e.g., Delhi High Court, Police Station XYZ, etc.)\n",
        "- **Jurisdiction:** (City, State, Country)\n",
        "\n",
        "---\n",
        "\n",
        "### **Key Legal Content & Analysis**\n",
        "- **Nature of the Matter:** (Civil, Criminal, Commercial, Property Dispute, Employment, Family Law, etc.)\n",
        "- **Main Legal Issues or Allegations:** (Summarize the core legal concerns in precise legal language)\n",
        "- **Claims / Relief Sought / Demands:** (What is being requested? Compensation, compliance, legal penalties, etc.)\n",
        "- **Key Arguments / Evidence Cited:** (Summarize critical legal points, contract clauses, evidence, etc.)\n",
        "- **Orders, Decisions, or Actions Taken (if applicable):** (Court orders, directives, penalties imposed, deadlines set)\n",
        "- **Current Status:** (Pending, Resolved, Under Investigation, Awaiting Response, etc.)\n",
        "- **Critical Deadlines & Next Steps:** (Legal response deadlines, compliance dates, upcoming hearings, etc.)\n",
        "\n",
        "---\n",
        "\n",
        "## 3: Risk Assessment & Legal Advisory (If Applicable)**\n",
        "For **Court Orders, FIRs, and Legal Notices**, assess potential risks and recommend the next course of action:\n",
        "\n",
        "- **Legal Risk Level:** [Low / Medium / High]\n",
        "- **Potential Consequences:** (Possible legal liabilities, penalties, court actions, enforcement risks)\n",
        "- **Recommended Legal Actions:** (Steps to be taken immediately—e.g., hiring a lawyer, filing a response, negotiation strategies, etc.)\n",
        "\n",
        "Input Text:\n",
        "{}\n",
        "\n",
        "Output:\n",
        "Provide a well-structured summary of the input text.\n",
        "\"\"\""
      ],
      "metadata": {
        "id": "EZEUAHr9CN92"
      },
      "execution_count": 9,
      "outputs": []
    },
    {
      "cell_type": "code",
      "source": [
        "# Summarize each chunk and extract text content\n",
        "summarized_chunks = [llm.invoke(summary_prompt.format(doc.page_content)).content for doc in docs]\n",
        "\n",
        "# Summarize the summarized chunks\n",
        "final_summary = llm.invoke(summary_prompt.format(\"\\n\".join(summarized_chunks))).content\n",
        "\n",
        "print(final_summary)"
      ],
      "metadata": {
        "colab": {
          "base_uri": "https://localhost:8080/"
        },
        "id": "rStXJt7WELD8",
        "outputId": "5a59dcbf-9806-4e53-9f29-0f28a16f000b"
      },
      "execution_count": 10,
      "outputs": [
        {
          "output_type": "stream",
          "name": "stdout",
          "text": [
            "---\n",
            "\n",
            "## 1: Identify the Type of Legal Document**\n",
            "- **Category:** Judgment / Court Order\n",
            "\n",
            "---\n",
            "\n",
            "## 2: Generate a Highly Structured Summary**\n",
            "\n",
            "### **Document Overview**\n",
            "- **Title / Case Name / Subject:** Directions Regarding Unauthorized Construction\n",
            "- **Parties Involved:** Not specified in the provided text\n",
            "- **Date & Reference Number:** Not mentioned in the provided text\n",
            "- **Issuing Authority / Court / Legal Body:** Supreme Court of India\n",
            "- **Jurisdiction:** India\n",
            "\n",
            "---\n",
            "\n",
            "### **Key Legal Content & Analysis**\n",
            "- **Nature of the Matter:** Unauthorized construction and demolition\n",
            "- **Main Legal Issues or Allegations:**\n",
            "    - Unauthorized construction is a serious issue that poses risks to occupants and the environment.\n",
            "    - Regularization schemes should be exceptional and justified to ensure compliance with building plans and regulations.\n",
            "    - Officials should be held accountable for failing to prevent unauthorized construction.\n",
            "- **Claims / Relief Sought / Demands:**\n",
            "    - Strict compliance with building plans and regulations\n",
            "    - Demolish unauthorized constructions\n",
            "    - Hold responsible parties accountable\n",
            "- **Key Arguments / Evidence Cited:**\n",
            "    - Unauthorized constructions pose risks to occupants and the environment\n",
            "    - Regularization schemes should be exceptional and justified\n",
            "    - Officials should be held accountable for failing to prevent unauthorized construction\n",
            "- **Orders, Decisions, or Actions Taken (if applicable):**\n",
            "    - Designated authority shall issue final orders on unauthorized construction\n",
            "    - Owners/occupiers have 15 days to remove/demolish unauthorized construction\n",
            "    - Authorities shall demolish unauthorized and non-compoundable constructions\n",
            "    - Detailed inspection report and demolition report must be prepared\n",
            "    - Video recording of demolition proceedings must be preserved\n",
            "    - Compliance with directions is mandatory, and violations may lead to contempt proceedings\n",
            "- **Current Status:** Not specified in the provided text\n",
            "- **Critical Deadlines & Next Steps:**\n",
            "    - 15 days from receipt of notice for owners/occupiers to remove/demolish unauthorized construction\n",
            "    - 15 days from expiry of the above period for authorities to demolish unauthorized construction\n",
            "    - Filing of appellate or judicial review within the time period prescribed by the statute (if applicable)\n",
            "\n",
            "---\n",
            "\n",
            "## 3: Risk Assessment & Legal Advisory (If Applicable)**\n",
            "- **Legal Risk Level:** Not applicable (Final Order)\n",
            "- **Potential Consequences:** Not applicable (Final Order)\n",
            "- **Recommended Legal Actions:** Not applicable (Final Order)\n"
          ]
        }
      ]
    },
    {
      "cell_type": "code",
      "source": [],
      "metadata": {
        "id": "w456E2sGEN2b"
      },
      "execution_count": null,
      "outputs": []
    }
  ],
  "metadata": {
    "kernelspec": {
      "display_name": "Python 3",
      "name": "python3"
    },
    "language_info": {
      "codemirror_mode": {
        "name": "ipython",
        "version": 3
      },
      "file_extension": ".py",
      "mimetype": "text/x-python",
      "name": "python",
      "nbconvert_exporter": "python",
      "pygments_lexer": "ipython3",
      "version": "3.12.1"
    },
    "colab": {
      "provenance": [],
      "gpuType": "T4"
    },
    "accelerator": "GPU"
  },
  "nbformat": 4,
  "nbformat_minor": 0
}