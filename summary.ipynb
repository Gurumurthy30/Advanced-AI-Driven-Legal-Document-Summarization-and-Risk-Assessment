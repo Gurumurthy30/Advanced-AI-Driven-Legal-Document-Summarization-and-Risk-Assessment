{
 "cells": [
  {
   "cell_type": "code",
   "execution_count": 2,
   "metadata": {},
   "outputs": [],
   "source": [
    "import os\n",
    "from dotenv import load_dotenv\n",
    "from langchain_google_genai import ChatGoogleGenerativeAI\n",
    "from langchain.schema import HumanMessage"
   ]
  },
  {
   "cell_type": "code",
   "execution_count": 3,
   "metadata": {},
   "outputs": [
    {
     "data": {
      "text/plain": [
       "True"
      ]
     },
     "execution_count": 3,
     "metadata": {},
     "output_type": "execute_result"
    }
   ],
   "source": [
    "load_dotenv()"
   ]
  },
  {
   "cell_type": "code",
   "execution_count": 4,
   "metadata": {},
   "outputs": [],
   "source": [
    "google_api_key = os.getenv(\"GOOGLE_API\")"
   ]
  },
  {
   "cell_type": "code",
   "execution_count": 6,
   "metadata": {},
   "outputs": [
    {
     "name": "stdout",
     "output_type": "stream",
     "text": [
      "**Response 1**\n",
      "\n",
      "Yo, what's up, dude? What's good with you?\n",
      "\n",
      "**Response 2**\n",
      "\n",
      "Hey there, bud! Nothing much, just chillin'. How's it hangin' with you?\n",
      "\n",
      "**Response 3**\n",
      "\n",
      "Sup, man? How's your day been so far? Anything exciting happening?\n",
      "\n",
      "**Response 4**\n",
      "\n",
      "Yo, my dude! What's crackin'? You up to anything cool today?\n",
      "\n",
      "**Response 5**\n",
      "\n",
      "Hey, bro! Just cruising along. What's on your mind?\n"
     ]
    }
   ],
   "source": [
    "\n",
    "llm = ChatGoogleGenerativeAI(model=\"gemini-pro\")\n",
    "\n",
    "message = [HumanMessage(content='hay dude,whats going on')]\n",
    "\n",
    "responce = llm.invoke(message)\n",
    "\n",
    "print(responce.content)"
   ]
  },
  {
   "cell_type": "code",
   "execution_count": null,
   "metadata": {},
   "outputs": [],
   "source": []
  }
 ],
 "metadata": {
  "kernelspec": {
   "display_name": "Python 3",
   "language": "python",
   "name": "python3"
  },
  "language_info": {
   "codemirror_mode": {
    "name": "ipython",
    "version": 3
   },
   "file_extension": ".py",
   "mimetype": "text/x-python",
   "name": "python",
   "nbconvert_exporter": "python",
   "pygments_lexer": "ipython3",
   "version": "3.12.1"
  }
 },
 "nbformat": 4,
 "nbformat_minor": 2
}
